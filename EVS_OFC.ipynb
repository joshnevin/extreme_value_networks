{
 "cells": [
  {
   "cell_type": "code",
   "execution_count": 1,
   "id": "regional-parks",
   "metadata": {},
   "outputs": [],
   "source": [
    "# %%  imports \n",
    "import numpy as np\n",
    "import pandas as pd\n",
    "import os\n",
    "import matplotlib.pyplot as plt\n",
    "import matplotlib\n",
    "import time\n",
    "from scipy.stats import genextreme, genpareto\n",
    "from datetime import datetime"
   ]
  },
  {
   "cell_type": "code",
   "execution_count": 2,
   "id": "vietnamese-revision",
   "metadata": {},
   "outputs": [],
   "source": [
    "def get_list_simulations(root_dir):\n",
    "    \"\"\"\n",
    "    Get a list with all the name of the simulation csv files.\n",
    "    \"\"\"\n",
    "    file_list_simulations = []\n",
    "    for _, file in enumerate(os.listdir(root_dir)):\n",
    "        file_list_simulations.append(file)\n",
    "    return file_list_simulations\n",
    "\n",
    "def get_dict_scenario_txt(file_list_simulations):\n",
    "    \"\"\"\n",
    "    Build dictionary of scenario number and the corresponding name of the csv file\n",
    "    with simulation data.\n",
    "    \"\"\"\n",
    "    simulation_files_dict = {}\n",
    "    for file_name in file_list_simulations:\n",
    "        if file_name.endswith('.docx'):\n",
    "            continue\n",
    "        else:\n",
    "            #simulation_files_dict[str(file_name.split(\"_\")[1]) + '_' + str(file_name.split(\"_\")[3].rstrip('.txt'))] = file_name\n",
    "            simulation_files_dict[str(file_name.split(\"_\")[1])] = file_name\n",
    "    return simulation_files_dict\n",
    "\n",
    "def convert_objects_to_float(df: pd.DataFrame) -> pd.DataFrame:\n",
    "    \"\"\"\n",
    "    Convert columns with object dtype to floats in order to use them in models.\n",
    "    \"\"\"\n",
    "    indicator = df.dtypes == 'object'\n",
    "    categorical_columns = df.columns[indicator].tolist()\n",
    "    for col in categorical_columns:\n",
    "        try:\n",
    "            df[col] = df[col].astype('float')\n",
    "        except:\n",
    "            continue\n",
    "    return df\n",
    "\n",
    "def read_txt_to_df(file, root_dir):\n",
    "    \"\"\"\n",
    "    read individual channel txt file to a df\n",
    "    \"\"\"\n",
    "    file_path = os.path.join(root_dir, file)\n",
    "    #df = pd.read_csv(file_path, sep='\\t', header=[0,1])\n",
    "    df = pd.read_csv(file_path, sep='\\t')\n",
    "    columns = [\"date\", \"Q-factor\", \"Power\", \"CD\", \"PMD\"] \n",
    "    df.columns = columns\n",
    "    df = convert_objects_to_float(df)\n",
    "    return df\n",
    "\n",
    "def down_sample(df, sam):\n",
    "    \"\"\"\n",
    "    downsample by a factor 'sam' and return Q and CD arrays \n",
    "    \"\"\"\n",
    "    sam = int(sam)\n",
    "    Qarr = df[\"Q-factor\"].to_numpy()\n",
    "    CDarr = df[\"CD\"].to_numpy()\n",
    "    PMDarr = df[\"PMD\"].to_numpy()\n",
    "    Qarr = np.asarray([Qarr[i] for i in range(0, round(len(Qarr)), sam)])\n",
    "    CDarr = np.asarray([CDarr[i] for i in range(0, round(len(CDarr)), sam)])\n",
    "    PMDarr = np.asarray([PMDarr[i] for i in range(0, round(len(PMDarr)), sam)])\n",
    "    return Qarr, CDarr, PMDarr\n",
    "\n",
    "def convert_Q_to_array(df):\n",
    "    \"\"\"\n",
    "    downsample by a factor 'sam' and return Q and CD arrays \n",
    "    \"\"\"\n",
    "    Qarr = df[\"Q-factor\"].to_numpy()\n",
    "    return Qarr\n",
    "\n",
    "def get_segment(channel):\n",
    "    \"\"\"\n",
    "    get segment from channel number \n",
    "    \"\"\"\n",
    "    channel = str(channel)\n",
    "    return int(simulation_files_dict[channel].split(\"_\")[3].rstrip('.txt'))\n",
    "\n",
    "def get_discontinuities_in_time(time_column):\n",
    "    \"\"\"\n",
    "    get the indices for which the next \n",
    "                        \"\"\"\n",
    "    discons = []\n",
    "    for i in range(len(time_column) - 1):\n",
    "        if time_column[i+1] - time_column[i] > 15.0 or time_column[i+1] - time_column[i] < 0:\n",
    "            discons.append(i+1)\n",
    "    return discons\n",
    "\n",
    "def get_contiguous_bactches(discons, Q):\n",
    "    \"\"\"\n",
    "    split up Q into contiguous segments \n",
    "    \"\"\"  \n",
    "    discons = [0] + discons\n",
    "    segs = []\n",
    "    for i in range(len(discons) -1 ):\n",
    "        segs.append(Q[discons[i]:discons[i+1]])\n",
    "    return segs\n",
    "\n",
    "\n",
    "def check_for_fully_contiguous_channels(channel):\n",
    "    \"\"\"\n",
    "    read in data for one channel, get the time column, convert Q to an array and \n",
    "    split data into contiguous batches \n",
    "    \"\"\"\n",
    "    df = read_txt_to_df(simulation_files_dict[channel], root_dir)\n",
    "    timecol = get_times_from_dates(df)\n",
    "    #print(df['Q-factor'][0])   \n",
    "    return  check_for_discon_in_time(timecol)\n",
    "\n",
    "def check_for_discon_in_time(time_column):\n",
    "    \"\"\"\n",
    "    get the indices for which the next \n",
    "                        \"\"\"\n",
    "    \n",
    "    for i in range(len(time_column) - 1):\n",
    "        if time_column[i+1] - time_column[i] > 15.0:\n",
    "            discon = True\n",
    "        else:\n",
    "            discon = False\n",
    "    return discon\n",
    "\n",
    "def autocorr(x):\n",
    "    x = x - np.mean(x)\n",
    "    auto_corr = np.correlate(x, x, mode='full')\n",
    "    index_max = np.argmax(auto_corr)\n",
    "    return auto_corr[index_max:]/auto_corr[index_max]\n",
    "\n",
    "def count_outliers(snrarr, up, low):\n",
    "    outliers = 0\n",
    "    inds = []\n",
    "    for k in range(len(snrarr)):\n",
    "        if snrarr[k] > max(up) or snrarr[k] < min(low):  # count outliers above and below \n",
    "        #if snrarr[k] < min(low):  # count outliers below = could cause outage\n",
    "            outliers = outliers + 1\n",
    "            inds.append(k)\n",
    "    return outliers, inds\n",
    "\n",
    "def count_outliers_evs(snrarr, low):\n",
    "    outliers = 0\n",
    "    for k in range(len(snrarr)):\n",
    "        #if snrarr[k] > max(up) or snrarr[k] < min(low):  # count outliers above and below \n",
    "        if snrarr[k] < min(low):  # count outliers below = could cause outage\n",
    "            outliers = outliers + 1\n",
    "    return outliers\n",
    "\n",
    "def get_times_from_dates(df):\n",
    "    \"\"\"\n",
    "    convert dates column to timestamps \n",
    "    \"\"\"\n",
    "    time_stamps = []\n",
    "    dates = df['date']\n",
    "    date_time_0 = datetime.strptime(dates[0], '%Y.%m.%d.%H.%M.%S')\n",
    "    time_stamp_0 = datetime.timestamp(date_time_0)\n",
    "    for i in range(len(dates)-1):\n",
    "        date_time = datetime.strptime(dates[i+1], '%Y.%m.%d.%H.%M.%S')\n",
    "        time_stamp = datetime.timestamp(date_time)\n",
    "        time_stamps.append((time_stamp - time_stamp_0)/60)\n",
    "    time_stamps = [0.0] + time_stamps\n",
    "    return time_stamps\n",
    "\n",
    "def db2lin(x):\n",
    "    return 10**(x/10)\n",
    "\n",
    "def calc_capacity(prmnn):\n",
    "    return 32*np.log2(1+db2lin(min(prmnn)))\n",
    "\n",
    "def find_Q_drops(channels, Q_thresh):\n",
    "    \"\"\"\n",
    "    parse through a given list of channels and locate the batch and index of \n",
    "    the Q-drop events, defined as where Q changes by more than Q_thresh\n",
    "    \"\"\"\n",
    "    q_drops = []\n",
    "    for i in channels:\n",
    "        timecol, discons, batches, _ =  read_data_and_return_largest_batch(i)\n",
    "        for j in range(len(batches)):\n",
    "            batch_ind = j\n",
    "            Qbat = batches[batch_ind]\n",
    "            Qbat_time = timecol[discons[batch_ind]:discons[batch_ind+1]]/(60)\n",
    "            q_drop_inds = get_Q_drops_and_spikes(Qbat, Q_thresh)\n",
    "            if len(q_drop_inds) == 0:\n",
    "                continue\n",
    "            else:\n",
    "                q_drops.append([i, batch_ind, q_drop_inds])\n",
    "    return q_drops\n",
    "def get_Q_drops_and_spikes(Qbat, Q_thresh):\n",
    "    \"\"\"\n",
    "    get the indices corresponding to Q-drop events for a given batch of data\n",
    "                        \"\"\"\n",
    "    drop_inds = []\n",
    "    for i in range(len(Qbat) - 1):\n",
    "        if Qbat[i+1] - Qbat[i] > Q_thresh or Qbat[i+1] - Qbat[i] < -Q_thresh:\n",
    "            drop_inds.append(i+1)\n",
    "    return drop_inds\n",
    "\n",
    "def read_data_and_return_largest_batch(channel):\n",
    "\n",
    "    #print(\"segment = \" + str(get_segment(channel)))\n",
    "    df = read_txt_to_df(simulation_files_dict[channel], root_dir)\n",
    "    timecol = get_times_from_dates(df)\n",
    "    df = df.drop('date', axis =1)\n",
    "    df['time'] = timecol\n",
    "    #df = drop_bad_values(df)\n",
    "    timecol = df['time'].to_numpy()\n",
    "    discons = get_discontinuities_in_time(timecol)\n",
    "    #Qarr, _, _, _ = down_sample(df, 1) # set sam = 1 to just return arrays with same sampling\n",
    "    Qarr = convert_Q_to_array(df)\n",
    "    batches = get_contiguous_bactches(discons, Qarr)\n",
    "    # batchescd = get_contiguous_bactches(discons, CDarr)\n",
    "    # batchespmd = get_contiguous_bactches(discons, PMDarr)\n",
    "    # batchespch = get_contiguous_bactches(discons, Pcharr)\n",
    "    batch_lens = ([len(i) for i in batches ])\n",
    "    batch_max = batch_lens.index(max(batch_lens))\n",
    "    discons = [0] + discons\n",
    "    return timecol, discons, batches, batch_max\n",
    "\n",
    "def snr_to_ber_QPSK(x):\n",
    "    \"\"\"\n",
    "    convert from linear SNR to BER for QPSK signal\n",
    "    \"\"\"\n",
    "    return 0.5*erfc((x/2)**0.5)\n",
    "def ber_to_snr_QPSK(x):\n",
    "    \"\"\"\n",
    "    convert from BER to linear SNR for QPSK signal\n",
    "    \"\"\"\n",
    "    return ((erfcinv(2*x))**2)*2\n",
    "\n",
    "def lin2db(x):\n",
    "    \"\"\"\n",
    "    convert from linear to dB\n",
    "    \"\"\"\n",
    "    return 10*np.log10(x)\n",
    "\n",
    "def get_Q_drop_dataset(Q_drops, batch_size):\n",
    "    drops_data = []\n",
    "    for i in range(len(Q_drops)):\n",
    "        df = read_txt_to_df(simulation_files_dict[Q_drops[i][0]], root_dir)\n",
    "        timecol = get_times_from_dates(df)\n",
    "        df = df.drop('date', axis =1)\n",
    "        df['time'] = timecol\n",
    "        timecol = df['time'].to_numpy()\n",
    "        discons = get_discontinuities_in_time(timecol)\n",
    "        Qarr = convert_Q_to_array(df)\n",
    "        batches = get_contiguous_bactches(discons, Qarr)\n",
    "        discons = [0] + discons\n",
    "        batch_ind = Q_drops[i][1]\n",
    "        Qarr = batches[batch_ind]\n",
    "        slice_low = Q_drops[i][2][0] \n",
    "        slice_high = Q_drops[i][2][0] + batch_size\n",
    "        snr = Qarr[slice_low:slice_high]\n",
    "        snr = snr.reshape(len(snr),1)\n",
    "        drops_data.append(snr)\n",
    "    return drops_data\n",
    "def get_Q_steady_dataset(q_steady, batch_size):\n",
    "    steady_data = []\n",
    "    for i in range(len(q_steady)):\n",
    "        df = read_txt_to_df(simulation_files_dict[q_steady[i][0]], root_dir)\n",
    "        timecol = get_times_from_dates(df)\n",
    "        df = df.drop('date', axis =1)\n",
    "        df['time'] = timecol\n",
    "        timecol = df['time'].to_numpy()\n",
    "        discons = get_discontinuities_in_time(timecol)\n",
    "        Qarr = convert_Q_to_array(df)\n",
    "        batches = get_contiguous_bactches(discons, Qarr)\n",
    "        discons = [0] + discons\n",
    "        batch_ind = q_steady[i][1]\n",
    "        Qarr = batches[batch_ind]\n",
    "        slice_low = 0\n",
    "        slice_high = batch_size\n",
    "        snr = Qarr[slice_low:slice_high]\n",
    "        snr = snr.reshape(len(snr),1)\n",
    "        steady_data.append(snr)\n",
    "    return steady_data\n",
    "\n",
    "def find_steady_state_channels(channels, Q_thresh):\n",
    "    \"\"\"\n",
    "    parse through a given list of channels and locate the batch and index of \n",
    "    the Q-drop events, defined as where Q changes by more than Q_thresh\n",
    "    \"\"\"\n",
    "    q_steady = []\n",
    "    for i in channels:\n",
    "        timecol, discons, batches, _ =  read_data_and_return_largest_batch(i)\n",
    "        parsing = True\n",
    "        while parsing:\n",
    "            j = 0\n",
    "            batch_ind = j\n",
    "            Qbat = batches[batch_ind]\n",
    "            Qbat_time = timecol[discons[batch_ind]:discons[batch_ind+1]]/(60)\n",
    "            q_drop_inds = get_Q_drops_and_spikes(Qbat, Q_thresh)\n",
    "            if len(q_drop_inds) == 0:\n",
    "                q_steady.append([i, batch_ind])\n",
    "                parsing = False\n",
    "            else:\n",
    "                j = j + 1\n",
    "    return q_steady\n",
    "\n",
    "def find_steady_state_batches(channel, Q_thresh):\n",
    "    \"\"\"\n",
    "    parse through a given channel and find the steady-state batches\n",
    "    \"\"\"\n",
    "    q_steady = []\n",
    "    timecol, discons, batches, _ =  read_data_and_return_largest_batch(channel)\n",
    "    for i in range(len(batches)):\n",
    "        batch_ind = i\n",
    "        Qbat = batches[batch_ind]\n",
    "        Qbat_time = timecol[discons[batch_ind]:discons[batch_ind+1]]/(60)\n",
    "        q_drop_inds = get_Q_drops_and_spikes(Qbat, Q_thresh)\n",
    "        if len(q_drop_inds) == 0:\n",
    "            q_steady.append(Qbat)\n",
    "        else:\n",
    "            continue\n",
    "    return q_steady\n",
    "\n",
    "def get_Q_drop_dataset(Q_drops, batch_size):\n",
    "    drops_data = []\n",
    "    for i in range(len(Q_drops)):\n",
    "        df = read_txt_to_df(simulation_files_dict[Q_drops[i][0]], root_dir)\n",
    "        timecol = get_times_from_dates(df)\n",
    "        df = df.drop('date', axis =1)\n",
    "        df['time'] = timecol\n",
    "        timecol = df['time'].to_numpy()\n",
    "        discons = get_discontinuities_in_time(timecol)\n",
    "        Qarr = convert_Q_to_array(df)\n",
    "        batches = get_contiguous_bactches(discons, Qarr)\n",
    "        discons = [0] + discons\n",
    "        batch_ind = Q_drops[i][1]\n",
    "        Qarr = batches[batch_ind]\n",
    "        slice_low = Q_drops[i][2][0]\n",
    "        #slice_high = Q_drops[i][2][1] \n",
    "        slice_high = Q_drops[i][2][0] + batch_size\n",
    "        snr = Qarr[slice_low:slice_high]\n",
    "        snr = snr.reshape(len(snr),1)\n",
    "        drops_data.append(snr)\n",
    "    return drops_data\n",
    "\n",
    "def return_period_vs_batch_size(ext_val, snr, batch_sizes):\n",
    "    \"\"\"\n",
    "    calculate the variation of the return period with sample batch size \n",
    "    \"\"\"\n",
    "    ret_pers = []\n",
    "    shapes = []\n",
    "    locs = []\n",
    "    scales = []\n",
    "    num_bats_tot = []\n",
    "    for i in batch_sizes:\n",
    "        num_bats = int(np.floor(len(snr)/i))\n",
    "        ind_max = int(i*num_bats)\n",
    "        snr_min = (np.reshape(snr[:ind_max], (num_bats,-1)))\n",
    "        snr_min = np.array([min(snr_min[k]) for k in range(num_bats)])\n",
    "        shape, loc, scale = genextreme.fit(snr_min)\n",
    "        ext_prob = genextreme.cdf(ext_val, shape, loc, scale)\n",
    "        ret_pers.append((i/(4*24))/ext_prob)  # return period in days\n",
    "        shapes.append(shape)\n",
    "        locs.append(loc)\n",
    "        scales.append(scale)\n",
    "        num_bats_tot.append(num_bats)\n",
    "    return ret_pers, shapes, locs, scales, num_bats_tot\n",
    "def fit_GEV(snr, bat_max_size):\n",
    "    num_bats = int(np.floor(len(snr)/bat_max_size))\n",
    "    ind_max = int(bat_max_size*num_bats)\n",
    "    snr_min = (np.reshape(snr[:ind_max], (num_bats,-1)))\n",
    "    snr_min = np.array([min(snr_min[i]) for i in range(num_bats)])\n",
    "    shape, loc, scale = genextreme.fit(snr_min)\n",
    "    return shape, loc, scale \n",
    "def get_num_values(snr, snr_th):\n",
    "    return len([i for i in snr if i <= snr_th])\n",
    "\n",
    "def return_period(ext_val, shape, loc, scale, batch_size):\n",
    "    \"\"\"\n",
    "    calculate the variation of the return period with sample batch size \n",
    "    \"\"\"\n",
    "    ext_prob = genextreme.cdf(ext_val, shape, loc, scale)\n",
    "    ret_per = ((batch_size/(4*24))/ext_prob)  # return period in days\n",
    "    return ret_per"
   ]
  },
  {
   "cell_type": "code",
   "execution_count": 3,
   "id": "theoretical-rebecca",
   "metadata": {},
   "outputs": [],
   "source": [
    "# get files and make a dictionary \n",
    "root_dir = '/Users/joshnevin/Desktop/MicrosoftDataset'\n",
    "file_list_simulations= get_list_simulations(root_dir)\n",
    "simulation_files_dict = get_dict_scenario_txt(file_list_simulations)"
   ]
  },
  {
   "cell_type": "markdown",
   "id": "cross-cambridge",
   "metadata": {},
   "source": [
    "Read in a channel "
   ]
  },
  {
   "cell_type": "code",
   "execution_count": 4,
   "id": "latest-integral",
   "metadata": {},
   "outputs": [
    {
     "name": "stdout",
     "output_type": "stream",
     "text": [
      "batch size 3800\n"
     ]
    },
    {
     "data": {
      "image/png": "[encoded data removed]",
      "text/plain": [
       "<Figure size 432x288 with 1 Axes>"
      ]
     },
     "metadata": {},
     "output_type": "display_data"
    },
    {
     "name": "stdout",
     "output_type": "stream",
     "text": [
      "[0.75]\n"
     ]
    }
   ],
   "source": [
    "#channel = '1375'\n",
    "#channel = '538'\n",
    "#channel = '539'\n",
    "channel = '1597'\n",
    "#channel = '341'\n",
    "df = read_txt_to_df(simulation_files_dict[channel], root_dir)\n",
    "timecol = get_times_from_dates(df)\n",
    "df = df.drop('date', axis =1)\n",
    "df['time'] = timecol\n",
    "timecol = df['time'].to_numpy()\n",
    "discons = get_discontinuities_in_time(timecol)\n",
    "#Qarr, _, _ = down_sample(df, 1) # set sam = 1 to just return arrays with same sampling\n",
    "Qarr = convert_Q_to_array(df)\n",
    "#snr = Qarr[15870:]  # for comparison with Seb's implementation \n",
    "batches = get_contiguous_bactches(discons, Qarr)\n",
    "discons = [0] + discons\n",
    "batchlens = ([len(i) for i in batches ] )\n",
    "batch_max = batchlens.index(max(batchlens))\n",
    "batch_ind = batch_max # note: first index is now 0 in batches list \n",
    "#batch_ind = 4 # try 16 too\n",
    "Qarr = batches[batch_ind]\n",
    "print(\"batch size \" + str(len(Qarr)))\n",
    "# slice_low = 300 # slice values for channel 345 example \n",
    "# slice_high = 400\n",
    "slice_low = 0\n",
    "slice_high = -1\n",
    "snr = Qarr\n",
    "#snr = Qarr[slice_low:slice_high]\n",
    "snr = snr.reshape(len(snr),1)\n",
    "timecol = timecol[discons[batch_ind]:discons[batch_ind+1]]\n",
    "xscale = 1\n",
    "# xplt = timecol[slice_low:slice_high]/(60*xscale)\n",
    "# x = timecol[slice_low:slice_high]/(60*xscale) - timecol[slice_low]/(60*xscale)\n",
    "xplt = timecol/(60*xscale)\n",
    "x = timecol/(60*xscale) - timecol[0]/(60*xscale)\n",
    "x = x.reshape(len(x), 1)\n",
    "font = { 'family' : 'sans-serif',\n",
    "                'weight' : 'normal',\n",
    "                'size'   : 14}\n",
    "matplotlib.rc('font', **font)\n",
    "fig, ax = plt.subplots(facecolor='w')\n",
    "plt.plot(xplt, snr, '+')\n",
    "#plt.savefig('figures/EVS_ch112.pdf', dpi=200,bbox_inches='tight')\n",
    "plt.show()\n",
    "print(max(snr) - min(snr))"
   ]
  },
  {
   "cell_type": "markdown",
   "id": "useful-murder",
   "metadata": {},
   "source": [
    "Save SNR csv file for TimeGAN input "
   ]
  },
  {
   "cell_type": "code",
   "execution_count": 5,
   "id": "intimate-savage",
   "metadata": {},
   "outputs": [],
   "source": [
    "np.savetxt('/Users/joshnevin/TimeGAN/data/channel_1597_SNR.csv', snr, delimiter=',') "
   ]
  },
  {
   "cell_type": "markdown",
   "id": "understanding-washington",
   "metadata": {},
   "source": [
    "plot histogram of SNR values $\\leq$ some threshold "
   ]
  },
  {
   "cell_type": "code",
   "execution_count": 6,
   "id": "checked-ordinary",
   "metadata": {},
   "outputs": [
    {
     "data": {
      "image/png": "[encoded data removed]",
      "text/plain": [
       "<Figure size 432x288 with 1 Axes>"
      ]
     },
     "metadata": {},
     "output_type": "display_data"
    }
   ],
   "source": [
    "snr_sorted = np.sort(snr.reshape(len(snr),))\n",
    "snr_sorted = [i for i in snr_sorted if i <= 13.95]\n",
    "fig, ax = plt.subplots(facecolor='w')\n",
    "plt.hist(snr_sorted)\n",
    "#plt.hist(snr)\n",
    "plt.ylabel(\"Frequency density\")\n",
    "plt.xlabel(\"SNR (dB)\")\n",
    "#plt.xlim([13.85, 13.95])\n",
    "ax.set_aspect(1.0/ax.get_data_ratio(), adjustable='box')\n",
    "#plt.savefig('figures/hist_snr.pdf', dpi=200,bbox_inches='tight')\n",
    "plt.show()"
   ]
  },
  {
   "cell_type": "markdown",
   "id": "latest-means",
   "metadata": {},
   "source": [
    "obtain minima from regular batches of SNR data "
   ]
  },
  {
   "cell_type": "code",
   "execution_count": 7,
   "id": "aging-grill",
   "metadata": {},
   "outputs": [],
   "source": [
    "bat_max_size = 5\n",
    "num_bats = int(np.floor(len(snr)/bat_max_size))\n",
    "#num_bats = int(np.floor(len(snr_subset_train)/bat_max_size))\n",
    "ind_max = int(bat_max_size*num_bats)\n",
    "snr_min = (np.reshape(snr[:ind_max], (num_bats,-1)))\n",
    "#snr_min = (np.reshape(snr_subset_train[:ind_max], (num_bats,-1)))\n",
    "snr_min = np.array([min(snr_min[i]) for i in range(num_bats)])\n",
    "#snr_min = db2lin(snr_min)\n",
    "# plt.hist(snr_min)\n",
    "# #plt.savefig(\"figures/SNR_min_hist.pdf\", dpi = 200, bbox_inches='tight')\n",
    "# plt.show()"
   ]
  },
  {
   "cell_type": "markdown",
   "id": "careful-arizona",
   "metadata": {},
   "source": [
    "fit EVS distribution using marginal likelihood "
   ]
  },
  {
   "cell_type": "code",
   "execution_count": 8,
   "id": "billion-shaft",
   "metadata": {},
   "outputs": [
    {
     "name": "stdout",
     "output_type": "stream",
     "text": [
      "shape, loc, scale = 0.14775154299573307, 13.221110414050269, 0.11286229748342655\n"
     ]
    },
    {
     "data": {
      "image/png": "[encoded data removed]",
      "text/plain": [
       "<Figure size 288x288 with 1 Axes>"
      ]
     },
     "metadata": {
      "needs_background": "light"
     },
     "output_type": "display_data"
    }
   ],
   "source": [
    "shape, loc, scale = genextreme.fit(snr_min)\n",
    "print(\"shape, loc, scale = \" + str(shape) + ', ' + str(loc) + ', ' + str(scale))\n",
    "gev_cdf_x = np.linspace(5,15,100000)\n",
    "snr_y = (np.linspace(1,num_bats,num_bats))/(1+len(snr_min))  # empirical probability\n",
    "#fig, ax = plt.subplots(facecolor='w')\n",
    "fig = plt.figure(figsize=(4,4))\n",
    "ax1 = fig.add_subplot(111)\n",
    "plt.semilogy(gev_cdf_x, genextreme.cdf(gev_cdf_x, shape, loc, scale), 'b-', label = \"GEV CDF\")\n",
    "plt.semilogy(np.sort(snr_min), snr_y, 'r.', label = \"$\\Delta(x_i) = i/(1+N)$\")\n",
    "plt.xlim([12.9,13.6])\n",
    "plt.ylim([1e-3,1])\n",
    "# ax1.set_yticklabels([0.01, 0.1, 1])\n",
    "# ax1.set_yticks([0.01, 0.1, 1])\n",
    "plt.ylabel(\"Probability\")\n",
    "plt.yticks([0.001, 0.01, 0.1, 1])\n",
    "ax1.set_yticklabels([0.001, 0.01, 0.1, 1])\n",
    "#plt.xlabel(\"SNR (dB)\")\n",
    "plt.xlabel(\"SNR (dB)\")\n",
    "plt.legend(loc=4, prop={'size': 12})\n",
    "plt.grid()\n",
    "ax.set_aspect(1.0/ax.get_data_ratio(), adjustable='box')\n",
    "#plt.savefig('figures/OFC_fig_1.pdf', dpi=200,bbox_inches='tight')\n",
    "plt.show()"
   ]
  },
  {
   "cell_type": "markdown",
   "id": "informative-physiology",
   "metadata": {},
   "source": [
    "Find the EVS-generated probability of the extreme events and their return period. Can use this to estimate the return period that equates to one year for a given precision."
   ]
  },
  {
   "cell_type": "code",
   "execution_count": 9,
   "id": "plain-spray",
   "metadata": {},
   "outputs": [
    {
     "name": "stdout",
     "output_type": "stream",
     "text": [
      "P(Mn <= x) = 0.000239\n",
      "Return period = 217.7 days\n"
     ]
    }
   ],
   "source": [
    "ext_prob = genextreme.cdf(12.94, shape, loc, scale)\n",
    "print(\"P(Mn <= x) = %.6f\" % ext_prob)\n",
    "ret_per = (bat_max_size/(4*24))/ext_prob  # return period in days\n",
    "print(\"Return period = %.1f days\" % ret_per)"
   ]
  },
  {
   "cell_type": "markdown",
   "id": "tribal-responsibility",
   "metadata": {},
   "source": [
    "Generate \"train\" and \"test\" subsets for empirical value comparison. Compare the distributions of the two subsets visually. "
   ]
  },
  {
   "cell_type": "code",
   "execution_count": 10,
   "id": "illegal-signal",
   "metadata": {},
   "outputs": [
    {
     "data": {
      "image/png": "[encoded data removed]",
      "text/plain": [
       "<Figure size 432x288 with 1 Axes>"
      ]
     },
     "metadata": {
      "needs_background": "light"
     },
     "output_type": "display_data"
    },
    {
     "name": "stdout",
     "output_type": "stream",
     "text": [
      "13.33882807017544\n",
      "0.13620635242210777\n"
     ]
    },
    {
     "data": {
      "image/png": "[encoded data removed]",
      "text/plain": [
       "<Figure size 432x288 with 1 Axes>"
      ]
     },
     "metadata": {
      "needs_background": "light"
     },
     "output_type": "display_data"
    },
    {
     "name": "stdout",
     "output_type": "stream",
     "text": [
      "13.324526315789473\n",
      "0.14190855781510656\n"
     ]
    }
   ],
   "source": [
    "snr_subset_train = snr[:int(np.floor(len(snr)/4))]\n",
    "snr_subset_test = snr[int(np.floor(len(snr)/4)):]\n",
    "plt.hist(snr_subset_test)\n",
    "plt.title(\"test\")\n",
    "plt.show()\n",
    "print(np.mean(snr_subset_test))\n",
    "print(np.std(snr_subset_test))\n",
    "plt.hist(snr_subset_train)\n",
    "plt.title(\"train\")\n",
    "plt.show()\n",
    "print(np.mean(snr_subset_train))\n",
    "print(np.std(snr_subset_train))"
   ]
  },
  {
   "cell_type": "markdown",
   "id": "useful-rover",
   "metadata": {},
   "source": [
    "Fit GEV distributions to the training data subset for low, medium and high values of the sample size for minima, $n$.  \n",
    "Use $n=3,5,10$ for paper.  \n",
    "\n",
    "This code was used to produce Figures 3 and 4."
   ]
  },
  {
   "cell_type": "code",
   "execution_count": 11,
   "id": "anonymous-treat",
   "metadata": {},
   "outputs": [],
   "source": [
    "bat_size_high = 10\n",
    "bat_size_med = 5\n",
    "bat_size_low = 3\n",
    "\n",
    "shape_subset_h, loc_subset_h, scale_subset_h = fit_GEV(snr_subset_train, bat_size_high)\n",
    "shape_subset, loc_subset, scale_subset = fit_GEV(snr_subset_train, bat_size_med)\n",
    "shape_subset_l, loc_subset_l, scale_subset_l = fit_GEV(snr_subset_train, bat_size_low)\n",
    "\n",
    "test_snrs = [12.98, 12.99, 13, 13.01, 13.02, 13.03, 13.04, 13.05, 13.06] # 1597\n",
    "test_snrs_cont = np.linspace(min(snr_subset_train)-0.05, min(snr_subset_train)+0.05, 10)\n",
    "\n",
    "return_periods_h = []\n",
    "return_periods_l = []\n",
    "return_periods = []\n",
    "for i in test_snrs_cont:\n",
    "    return_period_h = return_period(i, shape_subset_h, loc_subset_h, scale_subset_h, bat_size_high)\n",
    "    return_periods_h.append(return_period_h)\n",
    "    return_period_l = return_period(i, shape_subset_l, loc_subset_l, scale_subset_l, bat_size_low)\n",
    "    return_periods_l.append(return_period_l)\n",
    "    return_period_o = return_period(i, shape_subset, loc_subset, scale_subset, bat_size_med)\n",
    "    return_periods.append(return_period_o)\n",
    "\n",
    "total_time = len(snr_subset_test)*0.25/24\n",
    "emp_ret_per_sim = []\n",
    "for i in test_snrs:\n",
    "    try:\n",
    "        emp_ret_per_sim.append(total_time/(get_num_values(snr_subset_test, i)))\n",
    "    except:\n",
    "        emp_ret_per_sim.append(np.nan)"
   ]
  },
  {
   "cell_type": "code",
   "execution_count": 12,
   "id": "authorized-bench",
   "metadata": {},
   "outputs": [
    {
     "data": {
      "image/png": "[encoded data removed]",
      "text/plain": [
       "<Figure size 288x288 with 1 Axes>"
      ]
     },
     "metadata": {
      "needs_background": "light"
     },
     "output_type": "display_data"
    }
   ],
   "source": [
    "one_yr = 365*np.ones([len(test_snrs_cont),1])\n",
    "#fig, ax = plt.subplots(facecolor='w')\n",
    "fig = plt.figure(figsize=(4,4))\n",
    "ax = fig.add_subplot(111)\n",
    "ax.semilogy(test_snrs_cont[:], return_periods_l[:], 'g--', label='$n=3$')\n",
    "ax.semilogy(test_snrs_cont[:], return_periods[:], 'b-', label='$n=5$')\n",
    "ax.semilogy(test_snrs_cont[:], return_periods_h[:], 'k-.', label='$n=10$')\n",
    "ax.semilogy(test_snrs[:], emp_ret_per_sim[:], 'rx', label='Empirical')\n",
    "plt.ylabel(\"Return period (days)\")\n",
    "plt.xlabel(\"SNR (dB)\")\n",
    "plt.legend(loc = 1, prop={'size': 12}, ncol=1)\n",
    "plt.grid()\n",
    "ax.set_xticks([12.98, 13.00, 13.02, 13.04, 13.06])\n",
    "ax.set_xlim([12.98,13.06])\n",
    "ax.set_yticks([1, 10, 40])\n",
    "ax.set_yticklabels([1, 10, 40])\n",
    "ax.set_ylim(1, 40)\n",
    "ax.set_aspect(1.0/ax.get_data_ratio(), adjustable='box')\n",
    "#plt.savefig('figures/OFC_fig_3.pdf', dpi=200,bbox_inches='tight')\n",
    "plt.show()"
   ]
  },
  {
   "cell_type": "markdown",
   "id": "dietary-billion",
   "metadata": {},
   "source": [
    "Investigate the effect of the variation of batch size on the GEV parameters."
   ]
  },
  {
   "cell_type": "code",
   "execution_count": 12,
   "id": "obvious-sessions",
   "metadata": {},
   "outputs": [
    {
     "name": "stderr",
     "output_type": "stream",
     "text": [
      "<ipython-input-2-0cdeb5ef2976>:348: RuntimeWarning: overflow encountered in double_scalars\n",
      "  ret_pers.append((i/(4*24))/ext_prob)  # return period in days\n",
      "<ipython-input-2-0cdeb5ef2976>:348: RuntimeWarning: divide by zero encountered in double_scalars\n",
      "  ret_pers.append((i/(4*24))/ext_prob)  # return period in days\n",
      "/Users/joshnevin/ext_val_stats/evs_env/lib/python3.8/site-packages/scipy/stats/_continuous_distns.py:2434: RuntimeWarning: invalid value encountered in subtract\n",
      "  -pex2+logpex2-logex2)\n"
     ]
    }
   ],
   "source": [
    "bat_low = 10\n",
    "bat_high = 1001\n",
    "batch_sizes = [i for i in range(bat_low, bat_high, 5)]\n",
    "#return_periods, shapes, locs, scales = return_period_vs_batch_size(12.65, snr_subset_train, batch_sizes)\n",
    "return_periods, shapes, locs, scales, num_bats_tot = return_period_vs_batch_size(12.2, snr, batch_sizes)"
   ]
  },
  {
   "cell_type": "code",
   "execution_count": 13,
   "id": "equivalent-devices",
   "metadata": {},
   "outputs": [
    {
     "data": {
      "image/png": "[encoded data removed]",
      "text/plain": [
       "<Figure size 288x288 with 2 Axes>"
      ]
     },
     "metadata": {
      "needs_background": "light"
     },
     "output_type": "display_data"
    }
   ],
   "source": [
    "fig = plt.figure(figsize=(4,4))\n",
    "ax1 = fig.add_subplot(111)\n",
    "ax2 = ax1.twiny()\n",
    "ax1.semilogx(batch_sizes, shapes, 'b+')\n",
    "plt.ylabel(\"Shape parameter\")\n",
    "ax1.set_xlabel(\"Batch size\")\n",
    "ax2.set_xlabel(\"Number of samples\")\n",
    "ax1.set_xticks([10, 100, 1000])\n",
    "ax1.set_xticklabels([10, 100, 1000])\n",
    "ax1.set_xlim([bat_low-1,bat_high])\n",
    "ax2.set_xticks([25, 510, 1000])\n",
    "ax2.set_xticklabels([380, 38, 3])\n",
    "ax2.set_xlabel(\"Number of minima\")\n",
    "ax1.set_ylabel(\"Shape parameter\")\n",
    "ax.set_aspect(1.0/ax.get_data_ratio(), adjustable='box')\n",
    "ax1.grid()\n",
    "#plt.savefig('figures/OFC_fig_2.pdf', dpi=200,bbox_inches='tight')\n",
    "plt.show()"
   ]
  },
  {
   "cell_type": "code",
   "execution_count": null,
   "id": "uniform-albany",
   "metadata": {},
   "outputs": [],
   "source": []
  }
 ],
 "metadata": {
  "kernelspec": {
   "display_name": "Python 3",
   "language": "python",
   "name": "python3"
  },
  "language_info": {
   "codemirror_mode": {
    "name": "ipython",
    "version": 3
   },
   "file_extension": ".py",
   "mimetype": "text/x-python",
   "name": "python",
   "nbconvert_exporter": "python",
   "pygments_lexer": "ipython3",
   "version": "3.8.0"
  }
 },
 "nbformat": 4,
 "nbformat_minor": 5
}
