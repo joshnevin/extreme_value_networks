{
 "cells": [
  {
   "cell_type": "code",
   "execution_count": 1,
   "id": "elegant-mauritius",
   "metadata": {},
   "outputs": [],
   "source": [
    "# %%  imports \n",
    "import numpy as np\n",
    "import pandas as pd\n",
    "import os\n",
    "from pyextremes import EVA"
   ]
  },
  {
   "cell_type": "code",
   "execution_count": 2,
   "id": "honest-glass",
   "metadata": {},
   "outputs": [
    {
     "data": {
      "text/plain": [
       "pandas.core.series.Series"
      ]
     },
     "execution_count": 2,
     "metadata": {},
     "output_type": "execute_result"
    }
   ],
   "source": [
    "snr = np.genfromtxt('channel_1597_SNR.csv', dtype='float',delimiter=',')\n",
    "snr = pd.Series(snr)\n",
    "type(snr)"
   ]
  },
  {
   "cell_type": "code",
   "execution_count": 3,
   "id": "heavy-briefing",
   "metadata": {},
   "outputs": [],
   "source": [
    "def get_list_simulations(root_dir):\n",
    "    \"\"\"\n",
    "    Get a list with all the name of the simulation csv files.\n",
    "    \"\"\"\n",
    "    file_list_simulations = []\n",
    "    for _, file in enumerate(os.listdir(root_dir)):\n",
    "        file_list_simulations.append(file)\n",
    "    return file_list_simulations\n",
    "\n",
    "def get_dict_scenario_txt(file_list_simulations):\n",
    "    \"\"\"\n",
    "    Build dictionary of scenario number and the corresponding name of the csv file\n",
    "    with simulation data.\n",
    "    \"\"\"\n",
    "    simulation_files_dict = {}\n",
    "    for file_name in file_list_simulations:\n",
    "        if file_name.endswith('.docx'):\n",
    "            continue\n",
    "        else:\n",
    "            #simulation_files_dict[str(file_name.split(\"_\")[1]) + '_' + str(file_name.split(\"_\")[3].rstrip('.txt'))] = file_name\n",
    "            simulation_files_dict[str(file_name.split(\"_\")[1])] = file_name\n",
    "    return simulation_files_dict\n",
    "# def read_txt_to_df(file, root_dir):\n",
    "#     \"\"\"\n",
    "#     read individual channel txt file to a df\n",
    "#     \"\"\"\n",
    "#     file_path = os.path.join(root_dir, file)\n",
    "#     #df = pd.read_csv(file_path, sep='\\t', header=[0,1])\n",
    "#     df = pd.read_csv(file_path, sep='\\t')\n",
    "#     columns = [\"date\", \"Q-factor\", \"Power\", \"CD\", \"PMD\"] \n",
    "#     df.columns = columns\n",
    "#     df = convert_objects_to_float(df)\n",
    "#     return df\n",
    "def read_txt_to_series(file, root_dir):\n",
    "    \"\"\"\n",
    "    read individual channel txt file to a df\n",
    "    \"\"\"\n",
    "    file_path = os.path.join(root_dir, file)\n",
    "    #df = pd.read_csv(file_path, sep='\\t', index_col=0, parse_dates = True, squeeze=True)\n",
    "    #columns = [\"Q-factor\", \"Power\", \"CD\", \"PMD\"] \n",
    "    df = pd.read_csv(file_path, sep='\\t', parse_dates = True, squeeze=True)\n",
    "    columns = [\"Date\",\"Q-factor\", \"Power\", \"CD\", \"PMD\"] \n",
    "    df.columns = columns\n",
    "    #df = convert_objects_to_float(df)\n",
    "    return df\n",
    "def convert_objects_to_float(df: pd.DataFrame) -> pd.DataFrame:\n",
    "    \"\"\"\n",
    "    Convert columns with object dtype to floats in order to use them in models.\n",
    "    \"\"\"\n",
    "    indicator = df.dtypes == 'object'\n",
    "    categorical_columns = df.columns[indicator].tolist()\n",
    "    for col in categorical_columns:\n",
    "        try:\n",
    "            df[col] = df[col].astype('float')\n",
    "        except:\n",
    "            continue\n",
    "    return df"
   ]
  },
  {
   "cell_type": "code",
   "execution_count": 4,
   "id": "canadian-schedule",
   "metadata": {},
   "outputs": [],
   "source": [
    "# get files and make a dictionary \n",
    "root_dir = '/Users/joshnevin/Desktop/MicrosoftDataset'\n",
    "file_list_simulations= get_list_simulations(root_dir)\n",
    "simulation_files_dict = get_dict_scenario_txt(file_list_simulations)"
   ]
  },
  {
   "cell_type": "code",
   "execution_count": 5,
   "id": "classical-namibia",
   "metadata": {},
   "outputs": [],
   "source": [
    "channel = '1597'\n",
    "df = read_txt_to_series(simulation_files_dict[channel], root_dir)"
   ]
  },
  {
   "cell_type": "code",
   "execution_count": 6,
   "id": "permanent-publication",
   "metadata": {},
   "outputs": [],
   "source": [
    "df = df.drop(columns=['Power','CD','PMD'])"
   ]
  },
  {
   "cell_type": "code",
   "execution_count": 7,
   "id": "cardiac-collar",
   "metadata": {},
   "outputs": [
    {
     "data": {
      "text/plain": [
       "pandas.core.frame.DataFrame"
      ]
     },
     "execution_count": 7,
     "metadata": {},
     "output_type": "execute_result"
    }
   ],
   "source": [
    "type(df)"
   ]
  },
  {
   "cell_type": "code",
   "execution_count": 8,
   "id": "fifty-variance",
   "metadata": {},
   "outputs": [],
   "source": [
    "df['Date'] = pd.to_datetime(df['Date'], format='%Y.%m.%d.%H.%M.%S')"
   ]
  },
  {
   "cell_type": "code",
   "execution_count": 9,
   "id": "fabulous-audio",
   "metadata": {},
   "outputs": [],
   "source": [
    "df = df.set_index('Date')"
   ]
  },
  {
   "cell_type": "code",
   "execution_count": 10,
   "id": "rental-wisconsin",
   "metadata": {},
   "outputs": [],
   "source": [
    "series = df.squeeze()"
   ]
  },
  {
   "cell_type": "code",
   "execution_count": 11,
   "id": "ranking-piece",
   "metadata": {},
   "outputs": [
    {
     "data": {
      "text/plain": [
       "pandas.core.series.Series"
      ]
     },
     "execution_count": 11,
     "metadata": {},
     "output_type": "execute_result"
    }
   ],
   "source": [
    "type(series)"
   ]
  },
  {
   "cell_type": "markdown",
   "id": "senior-dubai",
   "metadata": {},
   "source": [
    "Need to work out how best to split the timeseries up into contiguous batches. One crude way would be to convert the time column to timestamps as before and use this to find the indices. "
   ]
  },
  {
   "cell_type": "code",
   "execution_count": 15,
   "id": "respiratory-saturn",
   "metadata": {},
   "outputs": [
    {
     "data": {
      "text/plain": [
       "13.29"
      ]
     },
     "execution_count": 15,
     "metadata": {},
     "output_type": "execute_result"
    }
   ],
   "source": [
    "series.iloc[1]"
   ]
  },
  {
   "cell_type": "code",
   "execution_count": 12,
   "id": "boxed-warning",
   "metadata": {},
   "outputs": [
    {
     "name": "stderr",
     "output_type": "stream",
     "text": [
      "/Users/joshnevin/ext_val_stats/evs_env/lib/python3.8/site-packages/pyextremes/eva.py:100: RuntimeWarning: `data` index is not sorted in ascending order - sorting `data` by index\n",
      "  warnings.warn(message=message, category=RuntimeWarning)\n"
     ]
    }
   ],
   "source": [
    "model = EVA(series)"
   ]
  },
  {
   "cell_type": "code",
   "execution_count": 13,
   "id": "equivalent-refund",
   "metadata": {},
   "outputs": [
    {
     "ename": "ValueError",
     "evalue": "no data in block [2015-02-16 12:15:00 ; 2015-02-16 13:15:00), fill gaps in the data or set the argument 'errors' to 'coerce' or 'ignore'",
     "output_type": "error",
     "traceback": [
      "\u001b[0;31m---------------------------------------------------------------------------\u001b[0m",
      "\u001b[0;31mValueError\u001b[0m                                Traceback (most recent call last)",
      "\u001b[0;32m<ipython-input-13-1d2e173c96e1>\u001b[0m in \u001b[0;36m<module>\u001b[0;34m\u001b[0m\n\u001b[0;32m----> 1\u001b[0;31m \u001b[0mmodel\u001b[0m\u001b[0;34m.\u001b[0m\u001b[0mget_extremes\u001b[0m\u001b[0;34m(\u001b[0m\u001b[0mmethod\u001b[0m\u001b[0;34m=\u001b[0m\u001b[0;34m\"BM\"\u001b[0m\u001b[0;34m,\u001b[0m \u001b[0mblock_size\u001b[0m\u001b[0;34m=\u001b[0m\u001b[0;34m\"1H\"\u001b[0m\u001b[0;34m)\u001b[0m\u001b[0;34m\u001b[0m\u001b[0;34m\u001b[0m\u001b[0m\n\u001b[0m",
      "\u001b[0;32m~/ext_val_stats/evs_env/lib/python3.8/site-packages/pyextremes/eva.py\u001b[0m in \u001b[0;36mget_extremes\u001b[0;34m(self, method, extremes_type, **kwargs)\u001b[0m\n\u001b[1;32m    461\u001b[0m         \u001b[0mmessage\u001b[0m \u001b[0;34m=\u001b[0m \u001b[0;34mf\"for method='{method}' and extremes_type='{extremes_type}'\"\u001b[0m\u001b[0;34m\u001b[0m\u001b[0;34m\u001b[0m\u001b[0m\n\u001b[1;32m    462\u001b[0m         \u001b[0mlogger\u001b[0m\u001b[0;34m.\u001b[0m\u001b[0mdebug\u001b[0m\u001b[0;34m(\u001b[0m\u001b[0;34m\"extracting extreme values %s\"\u001b[0m\u001b[0;34m,\u001b[0m \u001b[0mmessage\u001b[0m\u001b[0;34m)\u001b[0m\u001b[0;34m\u001b[0m\u001b[0;34m\u001b[0m\u001b[0m\n\u001b[0;32m--> 463\u001b[0;31m         self.__extremes = get_extremes(\n\u001b[0m\u001b[1;32m    464\u001b[0m             \u001b[0mmethod\u001b[0m\u001b[0;34m=\u001b[0m\u001b[0mmethod\u001b[0m\u001b[0;34m,\u001b[0m\u001b[0;34m\u001b[0m\u001b[0;34m\u001b[0m\u001b[0m\n\u001b[1;32m    465\u001b[0m             \u001b[0mts\u001b[0m\u001b[0;34m=\u001b[0m\u001b[0mself\u001b[0m\u001b[0;34m.\u001b[0m\u001b[0mdata\u001b[0m\u001b[0;34m,\u001b[0m\u001b[0;34m\u001b[0m\u001b[0;34m\u001b[0m\u001b[0m\n",
      "\u001b[0;32m~/ext_val_stats/evs_env/lib/python3.8/site-packages/pyextremes/extremes/extremes.py\u001b[0m in \u001b[0;36mget_extremes\u001b[0;34m(ts, method, extremes_type, **kwargs)\u001b[0m\n\u001b[1;32m     56\u001b[0m     \"\"\"\n\u001b[1;32m     57\u001b[0m     \u001b[0;32mif\u001b[0m \u001b[0mmethod\u001b[0m \u001b[0;34m==\u001b[0m \u001b[0;34m\"BM\"\u001b[0m\u001b[0;34m:\u001b[0m\u001b[0;34m\u001b[0m\u001b[0;34m\u001b[0m\u001b[0m\n\u001b[0;32m---> 58\u001b[0;31m         return get_extremes_block_maxima(\n\u001b[0m\u001b[1;32m     59\u001b[0m             \u001b[0mts\u001b[0m\u001b[0;34m=\u001b[0m\u001b[0mts\u001b[0m\u001b[0;34m,\u001b[0m\u001b[0;34m\u001b[0m\u001b[0;34m\u001b[0m\u001b[0m\n\u001b[1;32m     60\u001b[0m             \u001b[0mextremes_type\u001b[0m\u001b[0;34m=\u001b[0m\u001b[0mextremes_type\u001b[0m\u001b[0;34m,\u001b[0m\u001b[0;34m\u001b[0m\u001b[0;34m\u001b[0m\u001b[0m\n",
      "\u001b[0;32m~/ext_val_stats/evs_env/lib/python3.8/site-packages/pyextremes/extremes/block_maxima.py\u001b[0m in \u001b[0;36mget_extremes_block_maxima\u001b[0;34m(ts, extremes_type, block_size, errors, min_last_block)\u001b[0m\n\u001b[1;32m    112\u001b[0m                 )\n\u001b[1;32m    113\u001b[0m             \u001b[0;32melif\u001b[0m \u001b[0merrors\u001b[0m \u001b[0;34m==\u001b[0m \u001b[0;34m\"raise\"\u001b[0m\u001b[0;34m:\u001b[0m\u001b[0;34m\u001b[0m\u001b[0;34m\u001b[0m\u001b[0m\n\u001b[0;32m--> 114\u001b[0;31m                 raise ValueError(\n\u001b[0m\u001b[1;32m    115\u001b[0m                     \u001b[0;34mf\"no data in block [{interval.left} ; {interval.right}), \"\u001b[0m\u001b[0;34m\u001b[0m\u001b[0;34m\u001b[0m\u001b[0m\n\u001b[1;32m    116\u001b[0m                     \u001b[0;34mf\"fill gaps in the data \"\u001b[0m\u001b[0;34m\u001b[0m\u001b[0;34m\u001b[0m\u001b[0m\n",
      "\u001b[0;31mValueError\u001b[0m: no data in block [2015-02-16 12:15:00 ; 2015-02-16 13:15:00), fill gaps in the data or set the argument 'errors' to 'coerce' or 'ignore'"
     ]
    }
   ],
   "source": [
    "model.get_extremes(method=\"BM\", block_size=\"1H\")"
   ]
  },
  {
   "cell_type": "code",
   "execution_count": 51,
   "id": "neural-bidder",
   "metadata": {},
   "outputs": [
    {
     "data": {
      "text/plain": [
       "(<Figure size 768x480 with 1 Axes>,\n",
       " <AxesSubplot:xlabel='Date', ylabel='Q-factor'>)"
      ]
     },
     "execution_count": 51,
     "metadata": {},
     "output_type": "execute_result"
    },
    {
     "data": {
      "image/png": "[encoded data removed]",
      "text/plain": [
       "<Figure size 768x480 with 1 Axes>"
      ]
     },
     "metadata": {},
     "output_type": "display_data"
    }
   ],
   "source": [
    "model.plot_extremes()"
   ]
  },
  {
   "cell_type": "code",
   "execution_count": null,
   "id": "documented-settlement",
   "metadata": {},
   "outputs": [],
   "source": []
  }
 ],
 "metadata": {
  "kernelspec": {
   "display_name": "Python 3",
   "language": "python",
   "name": "python3"
  },
  "language_info": {
   "codemirror_mode": {
    "name": "ipython",
    "version": 3
   },
   "file_extension": ".py",
   "mimetype": "text/x-python",
   "name": "python",
   "nbconvert_exporter": "python",
   "pygments_lexer": "ipython3",
   "version": "3.8.0"
  }
 },
 "nbformat": 4,
 "nbformat_minor": 5
}
